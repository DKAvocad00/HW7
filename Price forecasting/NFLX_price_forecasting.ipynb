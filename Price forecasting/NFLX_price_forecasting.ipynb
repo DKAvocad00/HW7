{
 "cells": [
  {
   "cell_type": "code",
   "execution_count": 1,
   "id": "initial_id",
   "metadata": {
    "collapsed": true,
    "ExecuteTime": {
     "end_time": "2023-10-01T12:00:57.178269814Z",
     "start_time": "2023-10-01T12:00:56.913273284Z"
    }
   },
   "outputs": [],
   "source": [
    "from mplfinance.original_flavor import candlestick_ohlc # pip install --upgrade mplfinance\n",
    "import yfinance as yf  # pip install yfinance\n",
    "import matplotlib.dates as mdates\n",
    "import matplotlib.pyplot as plt\n",
    "import requests\n",
    "from datetime import datetime\n",
    "import pandas as pd\n",
    "import warnings\n",
    "import numpy as np\n",
    "import seaborn as sns\n",
    "\n",
    "\n",
    "from dateutil.relativedelta import relativedelta # working with dates with style\n",
    "from scipy.optimize import minimize              # for function minimization\n",
    "import statsmodels.formula.api as smf            # statistics and econometrics\n",
    "import statsmodels.tsa.api as smt\n",
    "import statsmodels.api as sm\n",
    "import scipy.stats as scs\n",
    "from itertools import product\n",
    "from tqdm import tqdm_notebook\n",
    "\n",
    "sns.set()\n",
    "%matplotlib inline\n",
    "warnings.filterwarnings(\"ignore\")"
   ]
  },
  {
   "cell_type": "code",
   "execution_count": 22,
   "outputs": [],
   "source": [
    "def get_price_data(ticker='NFLX'):\n",
    "    tickerData = yf.Ticker(ticker)\n",
    "    tickerDf = tickerData.history(period='1d', start='2017-1-1', end='2023-1-1')\n",
    "    return tickerDf.iloc[:,:5]"
   ],
   "metadata": {
    "collapsed": false,
    "ExecuteTime": {
     "end_time": "2023-10-01T12:02:18.820028556Z",
     "start_time": "2023-10-01T12:02:18.734980108Z"
    }
   },
   "id": "8878c75e3964da64"
  },
  {
   "cell_type": "code",
   "execution_count": 23,
   "outputs": [],
   "source": [
    "def plot_candlestick(df, ax=None, fmt=\"%Y-%m-%d\"):\n",
    "    if ax is None:\n",
    "        fig, ax = plt.subplots()\n",
    "    idx_name = df.index.name if df.index.name else 'index'\n",
    "    dat = df.reset_index()[[idx_name, \"Open\", \"High\", \"Low\", \"Close\"]]\n",
    "    dat[idx_name] = dat[idx_name].map(mdates.date2num)\n",
    "    ax.xaxis_date()\n",
    "    ax.xaxis.set_major_formatter(mdates.DateFormatter(fmt))\n",
    "    plt.xticks(rotation=45)\n",
    "    _ = candlestick_ohlc(ax, dat.values, width=.6, colorup='g', alpha =1)\n",
    "    ax.set_xlabel(idx_name)\n",
    "    ax.set_ylabel(\"OHLC\")\n",
    "    return ax"
   ],
   "metadata": {
    "collapsed": false,
    "ExecuteTime": {
     "end_time": "2023-10-01T12:02:19.119154438Z",
     "start_time": "2023-10-01T12:02:19.073922192Z"
    }
   },
   "id": "6226112379114481"
  },
  {
   "cell_type": "code",
   "execution_count": 24,
   "outputs": [],
   "source": [
    "df = get_price_data()"
   ],
   "metadata": {
    "collapsed": false,
    "ExecuteTime": {
     "end_time": "2023-10-01T12:02:20.190535457Z",
     "start_time": "2023-10-01T12:02:19.653470874Z"
    }
   },
   "id": "25ef46988a1be45d"
  },
  {
   "cell_type": "code",
   "execution_count": 25,
   "outputs": [
    {
     "data": {
      "text/plain": "                                 Open        High         Low       Close  \\\nDate                                                                        \n2017-01-03 00:00:00-05:00  124.959999  128.190002  124.309998  127.489998   \n2017-01-04 00:00:00-05:00  127.489998  130.169998  126.550003  129.410004   \n2017-01-05 00:00:00-05:00  129.220001  132.750000  128.899994  131.809998   \n2017-01-06 00:00:00-05:00  132.080002  133.880005  129.809998  131.070007   \n2017-01-09 00:00:00-05:00  131.479996  131.990005  129.889999  130.949997   \n...                               ...         ...         ...         ...   \n2022-12-23 00:00:00-05:00  296.179993  298.459991  291.910004  294.959991   \n2022-12-27 00:00:00-05:00  293.190002  293.570007  282.130005  284.170013   \n2022-12-28 00:00:00-05:00  281.920013  285.190002  273.410004  276.880005   \n2022-12-29 00:00:00-05:00  283.179993  295.500000  281.010010  291.119995   \n2022-12-30 00:00:00-05:00  285.529999  295.010010  283.220001  294.880005   \n\n                             Volume  \nDate                                 \n2017-01-03 00:00:00-05:00   9437900  \n2017-01-04 00:00:00-05:00   7843600  \n2017-01-05 00:00:00-05:00  10185500  \n2017-01-06 00:00:00-05:00  10657900  \n2017-01-09 00:00:00-05:00   5771800  \n...                             ...  \n2022-12-23 00:00:00-05:00   4251100  \n2022-12-27 00:00:00-05:00   5778100  \n2022-12-28 00:00:00-05:00   5964400  \n2022-12-29 00:00:00-05:00   9588500  \n2022-12-30 00:00:00-05:00   7566900  \n\n[1510 rows x 5 columns]",
      "text/html": "<div>\n<style scoped>\n    .dataframe tbody tr th:only-of-type {\n        vertical-align: middle;\n    }\n\n    .dataframe tbody tr th {\n        vertical-align: top;\n    }\n\n    .dataframe thead th {\n        text-align: right;\n    }\n</style>\n<table border=\"1\" class=\"dataframe\">\n  <thead>\n    <tr style=\"text-align: right;\">\n      <th></th>\n      <th>Open</th>\n      <th>High</th>\n      <th>Low</th>\n      <th>Close</th>\n      <th>Volume</th>\n    </tr>\n    <tr>\n      <th>Date</th>\n      <th></th>\n      <th></th>\n      <th></th>\n      <th></th>\n      <th></th>\n    </tr>\n  </thead>\n  <tbody>\n    <tr>\n      <th>2017-01-03 00:00:00-05:00</th>\n      <td>124.959999</td>\n      <td>128.190002</td>\n      <td>124.309998</td>\n      <td>127.489998</td>\n      <td>9437900</td>\n    </tr>\n    <tr>\n      <th>2017-01-04 00:00:00-05:00</th>\n      <td>127.489998</td>\n      <td>130.169998</td>\n      <td>126.550003</td>\n      <td>129.410004</td>\n      <td>7843600</td>\n    </tr>\n    <tr>\n      <th>2017-01-05 00:00:00-05:00</th>\n      <td>129.220001</td>\n      <td>132.750000</td>\n      <td>128.899994</td>\n      <td>131.809998</td>\n      <td>10185500</td>\n    </tr>\n    <tr>\n      <th>2017-01-06 00:00:00-05:00</th>\n      <td>132.080002</td>\n      <td>133.880005</td>\n      <td>129.809998</td>\n      <td>131.070007</td>\n      <td>10657900</td>\n    </tr>\n    <tr>\n      <th>2017-01-09 00:00:00-05:00</th>\n      <td>131.479996</td>\n      <td>131.990005</td>\n      <td>129.889999</td>\n      <td>130.949997</td>\n      <td>5771800</td>\n    </tr>\n    <tr>\n      <th>...</th>\n      <td>...</td>\n      <td>...</td>\n      <td>...</td>\n      <td>...</td>\n      <td>...</td>\n    </tr>\n    <tr>\n      <th>2022-12-23 00:00:00-05:00</th>\n      <td>296.179993</td>\n      <td>298.459991</td>\n      <td>291.910004</td>\n      <td>294.959991</td>\n      <td>4251100</td>\n    </tr>\n    <tr>\n      <th>2022-12-27 00:00:00-05:00</th>\n      <td>293.190002</td>\n      <td>293.570007</td>\n      <td>282.130005</td>\n      <td>284.170013</td>\n      <td>5778100</td>\n    </tr>\n    <tr>\n      <th>2022-12-28 00:00:00-05:00</th>\n      <td>281.920013</td>\n      <td>285.190002</td>\n      <td>273.410004</td>\n      <td>276.880005</td>\n      <td>5964400</td>\n    </tr>\n    <tr>\n      <th>2022-12-29 00:00:00-05:00</th>\n      <td>283.179993</td>\n      <td>295.500000</td>\n      <td>281.010010</td>\n      <td>291.119995</td>\n      <td>9588500</td>\n    </tr>\n    <tr>\n      <th>2022-12-30 00:00:00-05:00</th>\n      <td>285.529999</td>\n      <td>295.010010</td>\n      <td>283.220001</td>\n      <td>294.880005</td>\n      <td>7566900</td>\n    </tr>\n  </tbody>\n</table>\n<p>1510 rows × 5 columns</p>\n</div>"
     },
     "execution_count": 25,
     "metadata": {},
     "output_type": "execute_result"
    }
   ],
   "source": [
    "df"
   ],
   "metadata": {
    "collapsed": false,
    "ExecuteTime": {
     "end_time": "2023-10-01T12:02:20.210038370Z",
     "start_time": "2023-10-01T12:02:20.199022597Z"
    }
   },
   "id": "d36abfafde706852"
  },
  {
   "cell_type": "code",
   "execution_count": null,
   "outputs": [],
   "source": [],
   "metadata": {
    "collapsed": false
   },
   "id": "ab443dfb4c9ce3b6"
  }
 ],
 "metadata": {
  "kernelspec": {
   "display_name": "Python 3",
   "language": "python",
   "name": "python3"
  },
  "language_info": {
   "codemirror_mode": {
    "name": "ipython",
    "version": 2
   },
   "file_extension": ".py",
   "mimetype": "text/x-python",
   "name": "python",
   "nbconvert_exporter": "python",
   "pygments_lexer": "ipython2",
   "version": "2.7.6"
  }
 },
 "nbformat": 4,
 "nbformat_minor": 5
}
