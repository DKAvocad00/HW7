{
 "cells": [
  {
   "cell_type": "code",
   "execution_count": 1,
   "id": "initial_id",
   "metadata": {
    "collapsed": true,
    "ExecuteTime": {
     "end_time": "2023-10-01T12:04:44.726516191Z",
     "start_time": "2023-10-01T12:04:44.544674402Z"
    }
   },
   "outputs": [],
   "source": [
    "from mplfinance.original_flavor import candlestick_ohlc # pip install --upgrade mplfinance\n",
    "import yfinance as yf  # pip install yfinance\n",
    "import matplotlib.dates as mdates\n",
    "import matplotlib.pyplot as plt\n",
    "import requests\n",
    "from datetime import datetime\n",
    "import pandas as pd\n",
    "import warnings\n",
    "import numpy as np\n",
    "import seaborn as sns\n",
    "\n",
    "\n",
    "from dateutil.relativedelta import relativedelta # working with dates with style\n",
    "from scipy.optimize import minimize              # for function minimization\n",
    "import statsmodels.formula.api as smf            # statistics and econometrics\n",
    "import statsmodels.tsa.api as smt\n",
    "import statsmodels.api as sm\n",
    "import scipy.stats as scs\n",
    "from itertools import product\n",
    "from tqdm import tqdm_notebook\n",
    "\n",
    "sns.set()\n",
    "%matplotlib inline\n",
    "warnings.filterwarnings(\"ignore\")"
   ]
  },
  {
   "cell_type": "code",
   "execution_count": 2,
   "outputs": [],
   "source": [
    "def get_price_data(ticker='META'):\n",
    "    tickerData = yf.Ticker(ticker)\n",
    "    tickerDf = tickerData.history(period='1d', start='2017-1-1', end='2023-1-1')\n",
    "    return tickerDf.iloc[:,:5]"
   ],
   "metadata": {
    "collapsed": false,
    "ExecuteTime": {
     "end_time": "2023-10-01T12:04:44.772653880Z",
     "start_time": "2023-10-01T12:04:44.729627028Z"
    }
   },
   "id": "686e3b59aa7c4cc3"
  },
  {
   "cell_type": "code",
   "execution_count": 3,
   "outputs": [],
   "source": [
    "def plot_candlestick(df, ax=None, fmt=\"%Y-%m-%d\"):\n",
    "    if ax is None:\n",
    "        fig, ax = plt.subplots()\n",
    "    idx_name = df.index.name if df.index.name else 'index'\n",
    "    dat = df.reset_index()[[idx_name, \"Open\", \"High\", \"Low\", \"Close\"]]\n",
    "    dat[idx_name] = dat[idx_name].map(mdates.date2num)\n",
    "    ax.xaxis_date()\n",
    "    ax.xaxis.set_major_formatter(mdates.DateFormatter(fmt))\n",
    "    plt.xticks(rotation=45)\n",
    "    _ = candlestick_ohlc(ax, dat.values, width=.6, colorup='g', alpha =1)\n",
    "    ax.set_xlabel(idx_name)\n",
    "    ax.set_ylabel(\"OHLC\")\n",
    "    return ax"
   ],
   "metadata": {
    "collapsed": false,
    "ExecuteTime": {
     "end_time": "2023-10-01T12:04:45.314784854Z",
     "start_time": "2023-10-01T12:04:45.279720909Z"
    }
   },
   "id": "fb21a5b7ffe00a83"
  },
  {
   "cell_type": "code",
   "execution_count": 4,
   "outputs": [],
   "source": [
    "df = get_price_data()"
   ],
   "metadata": {
    "collapsed": false,
    "ExecuteTime": {
     "end_time": "2023-10-01T12:04:47.805111034Z",
     "start_time": "2023-10-01T12:04:46.016538893Z"
    }
   },
   "id": "4076ded45f65e138"
  },
  {
   "cell_type": "code",
   "execution_count": 5,
   "outputs": [
    {
     "data": {
      "text/plain": "                                 Open        High         Low       Close  \\\nDate                                                                        \n2017-01-03 00:00:00-05:00  116.029999  117.839996  115.510002  116.860001   \n2017-01-04 00:00:00-05:00  117.550003  119.660004  117.290001  118.690002   \n2017-01-05 00:00:00-05:00  118.860001  120.949997  118.320000  120.669998   \n2017-01-06 00:00:00-05:00  120.980003  123.879997  120.029999  123.410004   \n2017-01-09 00:00:00-05:00  123.550003  125.430000  123.040001  124.900002   \n...                               ...         ...         ...         ...   \n2022-12-23 00:00:00-05:00  116.029999  118.180000  115.540001  118.040001   \n2022-12-27 00:00:00-05:00  117.930000  118.599998  116.050003  116.879997   \n2022-12-28 00:00:00-05:00  116.250000  118.150002  115.510002  115.620003   \n2022-12-29 00:00:00-05:00  116.400002  121.029999  115.769997  120.260002   \n2022-12-30 00:00:00-05:00  118.160004  120.419998  117.739998  120.339996   \n\n                             Volume  \nDate                                 \n2017-01-03 00:00:00-05:00  20663900  \n2017-01-04 00:00:00-05:00  19630900  \n2017-01-05 00:00:00-05:00  19492200  \n2017-01-06 00:00:00-05:00  28545300  \n2017-01-09 00:00:00-05:00  22880400  \n...                             ...  \n2022-12-23 00:00:00-05:00  17796600  \n2022-12-27 00:00:00-05:00  21392300  \n2022-12-28 00:00:00-05:00  19612500  \n2022-12-29 00:00:00-05:00  22366200  \n2022-12-30 00:00:00-05:00  19583800  \n\n[1510 rows x 5 columns]",
      "text/html": "<div>\n<style scoped>\n    .dataframe tbody tr th:only-of-type {\n        vertical-align: middle;\n    }\n\n    .dataframe tbody tr th {\n        vertical-align: top;\n    }\n\n    .dataframe thead th {\n        text-align: right;\n    }\n</style>\n<table border=\"1\" class=\"dataframe\">\n  <thead>\n    <tr style=\"text-align: right;\">\n      <th></th>\n      <th>Open</th>\n      <th>High</th>\n      <th>Low</th>\n      <th>Close</th>\n      <th>Volume</th>\n    </tr>\n    <tr>\n      <th>Date</th>\n      <th></th>\n      <th></th>\n      <th></th>\n      <th></th>\n      <th></th>\n    </tr>\n  </thead>\n  <tbody>\n    <tr>\n      <th>2017-01-03 00:00:00-05:00</th>\n      <td>116.029999</td>\n      <td>117.839996</td>\n      <td>115.510002</td>\n      <td>116.860001</td>\n      <td>20663900</td>\n    </tr>\n    <tr>\n      <th>2017-01-04 00:00:00-05:00</th>\n      <td>117.550003</td>\n      <td>119.660004</td>\n      <td>117.290001</td>\n      <td>118.690002</td>\n      <td>19630900</td>\n    </tr>\n    <tr>\n      <th>2017-01-05 00:00:00-05:00</th>\n      <td>118.860001</td>\n      <td>120.949997</td>\n      <td>118.320000</td>\n      <td>120.669998</td>\n      <td>19492200</td>\n    </tr>\n    <tr>\n      <th>2017-01-06 00:00:00-05:00</th>\n      <td>120.980003</td>\n      <td>123.879997</td>\n      <td>120.029999</td>\n      <td>123.410004</td>\n      <td>28545300</td>\n    </tr>\n    <tr>\n      <th>2017-01-09 00:00:00-05:00</th>\n      <td>123.550003</td>\n      <td>125.430000</td>\n      <td>123.040001</td>\n      <td>124.900002</td>\n      <td>22880400</td>\n    </tr>\n    <tr>\n      <th>...</th>\n      <td>...</td>\n      <td>...</td>\n      <td>...</td>\n      <td>...</td>\n      <td>...</td>\n    </tr>\n    <tr>\n      <th>2022-12-23 00:00:00-05:00</th>\n      <td>116.029999</td>\n      <td>118.180000</td>\n      <td>115.540001</td>\n      <td>118.040001</td>\n      <td>17796600</td>\n    </tr>\n    <tr>\n      <th>2022-12-27 00:00:00-05:00</th>\n      <td>117.930000</td>\n      <td>118.599998</td>\n      <td>116.050003</td>\n      <td>116.879997</td>\n      <td>21392300</td>\n    </tr>\n    <tr>\n      <th>2022-12-28 00:00:00-05:00</th>\n      <td>116.250000</td>\n      <td>118.150002</td>\n      <td>115.510002</td>\n      <td>115.620003</td>\n      <td>19612500</td>\n    </tr>\n    <tr>\n      <th>2022-12-29 00:00:00-05:00</th>\n      <td>116.400002</td>\n      <td>121.029999</td>\n      <td>115.769997</td>\n      <td>120.260002</td>\n      <td>22366200</td>\n    </tr>\n    <tr>\n      <th>2022-12-30 00:00:00-05:00</th>\n      <td>118.160004</td>\n      <td>120.419998</td>\n      <td>117.739998</td>\n      <td>120.339996</td>\n      <td>19583800</td>\n    </tr>\n  </tbody>\n</table>\n<p>1510 rows × 5 columns</p>\n</div>"
     },
     "execution_count": 5,
     "metadata": {},
     "output_type": "execute_result"
    }
   ],
   "source": [
    "df"
   ],
   "metadata": {
    "collapsed": false,
    "ExecuteTime": {
     "end_time": "2023-10-01T12:04:48.866155379Z",
     "start_time": "2023-10-01T12:04:48.768811420Z"
    }
   },
   "id": "346252102c4090a5"
  },
  {
   "cell_type": "code",
   "execution_count": null,
   "outputs": [],
   "source": [],
   "metadata": {
    "collapsed": false
   },
   "id": "e2cce529f2ec826c"
  }
 ],
 "metadata": {
  "kernelspec": {
   "display_name": "Python 3",
   "language": "python",
   "name": "python3"
  },
  "language_info": {
   "codemirror_mode": {
    "name": "ipython",
    "version": 2
   },
   "file_extension": ".py",
   "mimetype": "text/x-python",
   "name": "python",
   "nbconvert_exporter": "python",
   "pygments_lexer": "ipython2",
   "version": "2.7.6"
  }
 },
 "nbformat": 4,
 "nbformat_minor": 5
}
